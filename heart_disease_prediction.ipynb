{
 "cells": [
  {
   "cell_type": "code",
   "execution_count": 1,
   "metadata": {},
   "outputs": [
    {
     "name": "stdout",
     "output_type": "stream",
     "text": [
      "Requirement already satisfied: ucimlrepo in c:\\users\\rohan\\appdata\\local\\packages\\pythonsoftwarefoundation.python.3.10_qbz5n2kfra8p0\\localcache\\local-packages\\python310\\site-packages (0.0.2)\n",
      "Note: you may need to restart the kernel to use updated packages.\n"
     ]
    },
    {
     "name": "stderr",
     "output_type": "stream",
     "text": [
      "\n",
      "[notice] A new release of pip is available: 23.0.1 -> 23.2.1\n",
      "[notice] To update, run: C:\\Users\\ROHAN\\AppData\\Local\\Microsoft\\WindowsApps\\PythonSoftwareFoundation.Python.3.10_qbz5n2kfra8p0\\python.exe -m pip install --upgrade pip\n"
     ]
    }
   ],
   "source": [
    "pip install ucimlrepo"
   ]
  },
  {
   "cell_type": "code",
   "execution_count": 1,
   "metadata": {},
   "outputs": [
    {
     "name": "stdout",
     "output_type": "stream",
     "text": [
      "-------------------------------------\n",
      "The following datasets are available:\n",
      "-------------------------------------\n",
      "Dataset Name                                                                            ID    \n",
      "------------                                                                            --    \n",
      "Abalone                                                                                 1     \n",
      "Adult                                                                                   2     \n",
      "Auto MPG                                                                                9     \n",
      "Automobile                                                                              10    \n",
      "Breast Cancer                                                                           14    \n",
      "Breast Cancer Wisconsin (Original)                                                      15    \n",
      "Breast Cancer Wisconsin (Diagnostic)                                                    17    \n",
      "Car Evaluation                                                                          19    \n",
      "Credit Approval                                                                         27    \n",
      "Glass Identification                                                                    42    \n",
      "Heart Disease                                                                           45    \n",
      "Ionosphere                                                                              52    \n",
      "Iris                                                                                    53    \n",
      "Letter Recognition                                                                      59    \n",
      "Liver Disorders                                                                         60    \n",
      "Lung Cancer                                                                             62    \n",
      "Mushroom                                                                                73    \n",
      "Optical Recognition of Handwritten Digits                                               80    \n",
      "Spambase                                                                                94    \n",
      "Wine                                                                                    109   \n",
      "Zoo                                                                                     111   \n",
      "Statlog (German Credit Data)                                                            144   \n",
      "Wine Quality                                                                            186   \n",
      "Parkinsons Telemonitoring                                                               189   \n",
      "Bank Marketing                                                                          222   \n",
      "ILPD (Indian Liver Patient Dataset)                                                     225   \n",
      "Thoracic Surgery Data                                                                   277   \n",
      "Diabetes 130-US hospitals for years 1999-2008                                           296   \n",
      "Diabetic Retinopathy Debrecen                                                           329   \n",
      "Heart failure clinical records                                                          519   \n",
      "Rice (Cammeo and Osmancik)                                                              545   \n",
      "Bone marrow transplant: children                                                        565   \n",
      "HCV data                                                                                571   \n",
      "Myocardial infarction complications                                                     579   \n",
      "Dry Bean Dataset                                                                        602   \n",
      "Predict students' dropout and academic success                                          697   \n",
      "Glioma Grading Clinical and Mutation Features                                           759   \n",
      "Sepsis Survival Minimal Clinical Records                                                827   \n",
      "Cirrhosis Patient Survival Prediction                                                   878   \n",
      "SUPPORT2                                                                                880   \n",
      "National Health and Nutrition Health Survey 2013-2014 (NHANES) Age Prediction Subset    887   \n",
      "AIDS Clinical Trials Group Study 175                                                    890   \n",
      "CDC Diabetes Health Indicators                                                          891   \n",
      "\n"
     ]
    }
   ],
   "source": [
    "from ucimlrepo import fetch_ucirepo,list_available_datasets\n",
    "list_available_datasets()"
   ]
  },
  {
   "cell_type": "code",
   "execution_count": 2,
   "metadata": {},
   "outputs": [],
   "source": [
    "heart_disease=fetch_ucirepo(id=45)"
   ]
  },
  {
   "cell_type": "code",
   "execution_count": 3,
   "metadata": {},
   "outputs": [],
   "source": [
    "X= heart_disease.data.features\n",
    "y= heart_disease.data.targets"
   ]
  },
  {
   "cell_type": "code",
   "execution_count": 5,
   "metadata": {},
   "outputs": [
    {
     "name": "stdout",
     "output_type": "stream",
     "text": [
      "45\n",
      "303\n"
     ]
    }
   ],
   "source": [
    "print(heart_disease.metadata.uci_id)\n",
    "print(heart_disease.metadata.num_instances)"
   ]
  },
  {
   "cell_type": "code",
   "execution_count": 6,
   "metadata": {},
   "outputs": [
    {
     "name": "stdout",
     "output_type": "stream",
     "text": [
      "This database contains 76 attributes, but all published experiments refer to using a subset of 14 of them.  In particular, the Cleveland database is the only one that has been used by ML researchers to date.  The \"goal\" field refers to the presence of heart disease in the patient.  It is integer valued from 0 (no presence) to 4. Experiments with the Cleveland database have concentrated on simply attempting to distinguish presence (values 1,2,3,4) from absence (value 0).  \n",
      "   \n",
      "The names and social security numbers of the patients were recently removed from the database, replaced with dummy values.\n",
      "\n",
      "One file has been \"processed\", that one containing the Cleveland database.  All four unprocessed files also exist in this directory.\n",
      "\n",
      "To see Test Costs (donated by Peter Turney), please see the folder \"Costs\" \n"
     ]
    }
   ],
   "source": [
    "print(heart_disease.metadata.additional_info.summary)"
   ]
  },
  {
   "cell_type": "code",
   "execution_count": 7,
   "metadata": {},
   "outputs": [
    {
     "name": "stdout",
     "output_type": "stream",
     "text": [
      "        name     role         type demographic  \\\n",
      "0        age  Feature      Integer         Age   \n",
      "1        sex  Feature  Categorical         Sex   \n",
      "2         cp  Feature  Categorical        None   \n",
      "3   trestbps  Feature      Integer        None   \n",
      "4       chol  Feature      Integer        None   \n",
      "5        fbs  Feature  Categorical        None   \n",
      "6    restecg  Feature  Categorical        None   \n",
      "7    thalach  Feature      Integer        None   \n",
      "8      exang  Feature  Categorical        None   \n",
      "9    oldpeak  Feature      Integer        None   \n",
      "10     slope  Feature  Categorical        None   \n",
      "11        ca  Feature      Integer        None   \n",
      "12      thal  Feature  Categorical        None   \n",
      "13       num   Target      Integer        None   \n",
      "\n",
      "                                          description  units missing_values  \n",
      "0                                                None  years             no  \n",
      "1                                                None   None             no  \n",
      "2                                                None   None             no  \n",
      "3   resting blood pressure (on admission to the ho...  mm Hg             no  \n",
      "4                                   serum cholestoral  mg/dl             no  \n",
      "5                     fasting blood sugar > 120 mg/dl   None             no  \n",
      "6                                                None   None             no  \n",
      "7                         maximum heart rate achieved   None             no  \n",
      "8                             exercise induced angina   None             no  \n",
      "9   ST depression induced by exercise relative to ...   None             no  \n",
      "10                                               None   None             no  \n",
      "11  number of major vessels (0-3) colored by flour...   None            yes  \n",
      "12                                               None   None            yes  \n",
      "13                         diagnosis of heart disease   None             no  \n"
     ]
    }
   ],
   "source": [
    "print(heart_disease.variables)"
   ]
  }
 ],
 "metadata": {
  "interpreter": {
   "hash": "c396e7f25e6fe72e0664f4f3c5df7d4bf13abdb708ae24db7456854404d95bee"
  },
  "kernelspec": {
   "display_name": "Python 3.10.11 64-bit (windows store)",
   "language": "python",
   "name": "python3"
  },
  "language_info": {
   "codemirror_mode": {
    "name": "ipython",
    "version": 3
   },
   "file_extension": ".py",
   "mimetype": "text/x-python",
   "name": "python",
   "nbconvert_exporter": "python",
   "pygments_lexer": "ipython3",
   "version": "3.10.11"
  },
  "orig_nbformat": 4
 },
 "nbformat": 4,
 "nbformat_minor": 2
}
